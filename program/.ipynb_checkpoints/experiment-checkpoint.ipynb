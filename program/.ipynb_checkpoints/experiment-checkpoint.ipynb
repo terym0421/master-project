{
 "cells": [
  {
   "cell_type": "code",
   "execution_count": 4,
   "id": "d19e4d99-9048-4025-9496-44d7e9d88f8b",
   "metadata": {},
   "outputs": [],
   "source": [
    "import experiment as experiment\n",
    "import puzzle as puzzle\n",
    "import tableau as tableau"
   ]
  },
  {
   "cell_type": "code",
   "execution_count": 6,
   "id": "304494e2-caf0-4718-b25d-81039d9826b2",
   "metadata": {},
   "outputs": [
    {
     "name": "stdout",
     "output_type": "stream",
     "text": [
      "[10a, 000, 10a, 000, a10, 0a1, 0a1, 111, b01, a10, 000, 000, 10a, 111, 000, a10, 111, b01, a10, b01, 000, ]\n",
      "(y_5 - y_3)(y_7 - y_3)(y_7 - y_2)\n",
      "[10a, 000, 10a, 000, a10, 0a1, 0a1, b01, 10a, a10, 000, 000, 111, 111, 000, a10, 111, b01, a10, b01, 000, ]\n",
      "(y_4 - y_2)(y_7 - y_3)(y_7 - y_2)\n",
      "[10a, 000, 10a, 000, a10, 0a1, b01, 000, 10a, a10, 000, 0a1, 111, 111, 000, a10, 111, b01, a10, b01, 000, ]\n",
      "(y_3 - y_1)(y_7 - y_3)(y_7 - y_2)\n",
      "[10a, 000, 10a, 000, a10, 0a1, b01, 000, 10a, a10, 000, b01, a10, 111, 000, 111, a10, b01, 111, 000, 0a1, ]\n",
      "(y_3 - y_1)(y_4 - y_1)(y_7 - y_3)\n",
      "[10a, 000, 10a, 000, a10, 0a1, b01, a10, b01, a10, 000, 111, 000, 111, 000, 10a, a10, b01, 111, 000, 0a1, ]\n",
      "(y_3 - y_1)(y_5 - y_3)(y_7 - y_3)\n",
      "[10a, a10, b01, 000, a10, 0a1, 111, 000, b01, a10, 000, 10a, 000, 111, 000, 10a, a10, b01, 111, 000, 0a1, ]\n",
      "(y_4 - y_3)(y_5 - y_3)(y_7 - y_3)\n"
     ]
    }
   ],
   "source": [
    "\n",
    "l = [3,1,1]\n",
    "m = [3,3]\n",
    "n = [4,3,1]\n",
    "c = 7\n",
    "k = 3\n",
    "\n",
    "\n",
    "P = puzzle.Puzzle(c, experiment.convertDiagramToString(l, c, k), experiment.convertDiagramToString(m, c, k), experiment.convertDiagramToString(n, c, k))\n",
    "puzzleList = puzzle.determineTheAllPieces(P)\n",
    "for p in puzzleList:\n",
    "    print(p)\n",
    "    print(p.weight())"
   ]
  },
  {
   "cell_type": "code",
   "execution_count": null,
   "id": "d0775e9d-81ca-4bbd-aa19-66d1adb36f04",
   "metadata": {},
   "outputs": [],
   "source": []
  }
 ],
 "metadata": {
  "kernelspec": {
   "display_name": "Python 3 (ipykernel)",
   "language": "python",
   "name": "python3"
  },
  "language_info": {
   "codemirror_mode": {
    "name": "ipython",
    "version": 3
   },
   "file_extension": ".py",
   "mimetype": "text/x-python",
   "name": "python",
   "nbconvert_exporter": "python",
   "pygments_lexer": "ipython3",
   "version": "3.8.10"
  }
 },
 "nbformat": 4,
 "nbformat_minor": 5
}
